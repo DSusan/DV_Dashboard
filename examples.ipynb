{
 "cells": [
  {
   "cell_type": "code",
   "execution_count": null,
   "metadata": {},
   "outputs": [],
   "source": [
    "import dash\n",
    "import numpy as np\n",
    "import pandas as pd \n",
    "import seaborn as sns\n",
    "import plotly.express as px\n",
    "import matplotlib.pyplot as plt\n",
    "import plotly.graph_objects as go\n",
    "from datetime import datetime as dt\n",
    "import dash_mantine_components as dmc\n",
    "import dash_bootstrap_components as dbc\n",
    "from dash import Dash, html, dash_table, dcc, callback, Output, Input"
   ]
  },
  {
   "cell_type": "code",
   "execution_count": null,
   "metadata": {},
   "outputs": [],
   "source": [
    "app_example = Dash(__name__)\n",
    "\n",
    "app_example.layout = html.Div([\n",
    "    dmc.Title(\"Sales Dashboard\"),\n",
    "    dmc.Space(h=30),\n",
    "    dmc.Group([\n",
    "        dmc.TextInput(label=\"Product\", placeholder=\"Enter product name\"),\n",
    "        dmc.NumberInput(label=\"Quantity\", min=0),\n",
    "        dmc.Button(\"Add to Cart\")\n",
    "    ]),\n",
    "    dmc.Space(h=30),\n",
    "    dmc.Text(\"Cart Items:\", size=\"xl\"),\n",
    "    dmc.Text(id=\"cart-items\", size=\"lg\")\n",
    "])\n",
    "\n",
    "@callback(Output('cart-items', 'children'), Input('button', 'n_clicks'),\n",
    "          Input('text-input', 'value'), Input('number-input', 'value'))\n",
    "def update_cart(n_clicks, product_name, quantity):\n",
    "    if n_clicks and product_name and quantity:\n",
    "        return f\"{quantity} x {product_name} added to cart.\"\n",
    "    else:\n",
    "        return \"Cart is empty.\"\n",
    "\n",
    "if __name__ == '__main__':\n",
    "   app_example.run_server(debug=True, jupyter_mode=\"external\")"
   ]
  }
 ],
 "metadata": {
  "language_info": {
   "name": "python"
  }
 },
 "nbformat": 4,
 "nbformat_minor": 2
}
